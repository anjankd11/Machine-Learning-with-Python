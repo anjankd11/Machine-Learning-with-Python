{
 "cells": [
  {
   "cell_type": "markdown",
   "id": "a8bd1829",
   "metadata": {},
   "source": [
    "### Terminologies:\n",
    "* equation of a straight line: y=mx+c\n",
    "* Straight lines\n",
    "* feature coefficient (slope, gradient, m)\n",
    "* bias coeffcient (y-interccept, c)\n",
    "* domain: x-axis, independent variable\n",
    "* range: y-axis, dependent variable\n",
    "* loss function, cost function, objective function, error function\n",
    "* bias-variance tradeoff, overfitting, underfitting\n",
    "* ordinary least square method\n",
    "* gradient descent method\n",
    "* residual, error, squared error\n",
    "* train data, test data"
   ]
  },
  {
   "cell_type": "markdown",
   "id": "fa052956",
   "metadata": {},
   "source": [
    "### Import Required Libraries"
   ]
  },
  {
   "cell_type": "code",
   "execution_count": 1,
   "id": "02b40138",
   "metadata": {},
   "outputs": [],
   "source": [
    "import pandas as pd\n",
    "import numpy as np\n",
    "\n",
    "from sklearn.model_selection import train_test_split\n",
    "from sklearn.linear_model import LinearRegression\n",
    "from sklearn.metrics import mean_squared_error, mean_absolute_error, r2_score"
   ]
  },
  {
   "cell_type": "markdown",
   "id": "8327d65e",
   "metadata": {},
   "source": [
    "### Load Data"
   ]
  },
  {
   "cell_type": "code",
   "execution_count": 2,
   "id": "c35ffc15",
   "metadata": {},
   "outputs": [
    {
     "data": {
      "text/html": [
       "<div>\n",
       "<style scoped>\n",
       "    .dataframe tbody tr th:only-of-type {\n",
       "        vertical-align: middle;\n",
       "    }\n",
       "\n",
       "    .dataframe tbody tr th {\n",
       "        vertical-align: top;\n",
       "    }\n",
       "\n",
       "    .dataframe thead th {\n",
       "        text-align: right;\n",
       "    }\n",
       "</style>\n",
       "<table border=\"1\" class=\"dataframe\">\n",
       "  <thead>\n",
       "    <tr style=\"text-align: right;\">\n",
       "      <th></th>\n",
       "      <th>model</th>\n",
       "      <th>year</th>\n",
       "      <th>price</th>\n",
       "      <th>transmission</th>\n",
       "      <th>mileage</th>\n",
       "      <th>fuelType</th>\n",
       "      <th>mpg</th>\n",
       "      <th>engineSize</th>\n",
       "    </tr>\n",
       "  </thead>\n",
       "  <tbody>\n",
       "    <tr>\n",
       "      <th>0</th>\n",
       "      <td>T-Roc</td>\n",
       "      <td>2019</td>\n",
       "      <td>25000</td>\n",
       "      <td>Automatic</td>\n",
       "      <td>13904</td>\n",
       "      <td>Diesel</td>\n",
       "      <td>49.6</td>\n",
       "      <td>2.0</td>\n",
       "    </tr>\n",
       "    <tr>\n",
       "      <th>1</th>\n",
       "      <td>T-Roc</td>\n",
       "      <td>2019</td>\n",
       "      <td>26883</td>\n",
       "      <td>Automatic</td>\n",
       "      <td>4562</td>\n",
       "      <td>Diesel</td>\n",
       "      <td>49.6</td>\n",
       "      <td>2.0</td>\n",
       "    </tr>\n",
       "    <tr>\n",
       "      <th>2</th>\n",
       "      <td>T-Roc</td>\n",
       "      <td>2019</td>\n",
       "      <td>20000</td>\n",
       "      <td>Manual</td>\n",
       "      <td>7414</td>\n",
       "      <td>Diesel</td>\n",
       "      <td>50.4</td>\n",
       "      <td>2.0</td>\n",
       "    </tr>\n",
       "    <tr>\n",
       "      <th>3</th>\n",
       "      <td>T-Roc</td>\n",
       "      <td>2019</td>\n",
       "      <td>33492</td>\n",
       "      <td>Automatic</td>\n",
       "      <td>4825</td>\n",
       "      <td>Petrol</td>\n",
       "      <td>32.5</td>\n",
       "      <td>2.0</td>\n",
       "    </tr>\n",
       "    <tr>\n",
       "      <th>4</th>\n",
       "      <td>T-Roc</td>\n",
       "      <td>2019</td>\n",
       "      <td>22900</td>\n",
       "      <td>Semi-Auto</td>\n",
       "      <td>6500</td>\n",
       "      <td>Petrol</td>\n",
       "      <td>39.8</td>\n",
       "      <td>1.5</td>\n",
       "    </tr>\n",
       "  </tbody>\n",
       "</table>\n",
       "</div>"
      ],
      "text/plain": [
       "    model  year  price transmission  mileage fuelType   mpg  engineSize\n",
       "0   T-Roc  2019  25000    Automatic    13904   Diesel  49.6         2.0\n",
       "1   T-Roc  2019  26883    Automatic     4562   Diesel  49.6         2.0\n",
       "2   T-Roc  2019  20000       Manual     7414   Diesel  50.4         2.0\n",
       "3   T-Roc  2019  33492    Automatic     4825   Petrol  32.5         2.0\n",
       "4   T-Roc  2019  22900    Semi-Auto     6500   Petrol  39.8         1.5"
      ]
     },
     "metadata": {},
     "output_type": "display_data"
    },
    {
     "name": "stdout",
     "output_type": "stream",
     "text": [
      "(15157, 8)\n"
     ]
    }
   ],
   "source": [
    "df = pd.read_csv(\"vw.csv\")\n",
    "\n",
    "display(df.head())\n",
    "print(df.shape)"
   ]
  },
  {
   "cell_type": "code",
   "execution_count": 3,
   "id": "a9801e4b",
   "metadata": {},
   "outputs": [
    {
     "name": "stdout",
     "output_type": "stream",
     "text": [
      "<class 'pandas.core.frame.DataFrame'>\n",
      "RangeIndex: 15157 entries, 0 to 15156\n",
      "Data columns (total 8 columns):\n",
      " #   Column        Non-Null Count  Dtype  \n",
      "---  ------        --------------  -----  \n",
      " 0   model         15157 non-null  object \n",
      " 1   year          15157 non-null  int64  \n",
      " 2   price         15157 non-null  int64  \n",
      " 3   transmission  15157 non-null  object \n",
      " 4   mileage       15157 non-null  int64  \n",
      " 5   fuelType      15157 non-null  object \n",
      " 6   mpg           15157 non-null  float64\n",
      " 7   engineSize    15157 non-null  float64\n",
      "dtypes: float64(2), int64(3), object(3)\n",
      "memory usage: 947.4+ KB\n"
     ]
    }
   ],
   "source": [
    "df.info()\n"
   ]
  },
  {
   "cell_type": "code",
   "execution_count": 4,
   "id": "fcdabdfb",
   "metadata": {},
   "outputs": [
    {
     "data": {
      "text/plain": [
       "Index(['model', 'year', 'price', 'transmission', 'mileage', 'fuelType', 'mpg',\n",
       "       'engineSize'],\n",
       "      dtype='object')"
      ]
     },
     "execution_count": 4,
     "metadata": {},
     "output_type": "execute_result"
    }
   ],
   "source": [
    "df.columns"
   ]
  },
  {
   "cell_type": "code",
   "execution_count": 5,
   "id": "78a5441a",
   "metadata": {},
   "outputs": [
    {
     "data": {
      "text/plain": [
       " Golf               4863\n",
       " Polo               3287\n",
       " Tiguan             1765\n",
       " Passat              915\n",
       " Up                  884\n",
       " T-Roc               733\n",
       " Touareg             363\n",
       " Touran              352\n",
       " T-Cross             300\n",
       " Golf SV             268\n",
       " Sharan              260\n",
       " Arteon              248\n",
       " Scirocco            242\n",
       " Amarok              111\n",
       " Caravelle           101\n",
       " CC                   95\n",
       " Tiguan Allspace      91\n",
       " Beetle               83\n",
       " Shuttle              61\n",
       " Caddy Maxi Life      59\n",
       " Jetta                32\n",
       " California           15\n",
       " Caddy Life            8\n",
       " Eos                   7\n",
       " Caddy                 6\n",
       " Caddy Maxi            4\n",
       " Fox                   4\n",
       "Name: model, dtype: int64"
      ]
     },
     "execution_count": 5,
     "metadata": {},
     "output_type": "execute_result"
    }
   ],
   "source": [
    "df[\"model\"].value_counts()"
   ]
  },
  {
   "cell_type": "code",
   "execution_count": 6,
   "id": "509f8652",
   "metadata": {},
   "outputs": [
    {
     "data": {
      "text/plain": [
       "Manual       9417\n",
       "Semi-Auto    3780\n",
       "Automatic    1960\n",
       "Name: transmission, dtype: int64"
      ]
     },
     "execution_count": 6,
     "metadata": {},
     "output_type": "execute_result"
    }
   ],
   "source": [
    "df[\"transmission\"].value_counts()"
   ]
  },
  {
   "cell_type": "code",
   "execution_count": 7,
   "id": "0beb6f4d",
   "metadata": {},
   "outputs": [
    {
     "data": {
      "text/plain": [
       "Petrol    8553\n",
       "Diesel    6372\n",
       "Hybrid     145\n",
       "Other       87\n",
       "Name: fuelType, dtype: int64"
      ]
     },
     "execution_count": 7,
     "metadata": {},
     "output_type": "execute_result"
    }
   ],
   "source": [
    "df[\"fuelType\"].value_counts()"
   ]
  },
  {
   "cell_type": "markdown",
   "id": "3b1e12e5",
   "metadata": {},
   "source": [
    "#### Separating the feature and target variable"
   ]
  },
  {
   "cell_type": "code",
   "execution_count": 8,
   "id": "fa0ba7c8",
   "metadata": {},
   "outputs": [
    {
     "name": "stdout",
     "output_type": "stream",
     "text": [
      "Shape of x =  (15157, 4)\n",
      "Shape of y =  (15157, 1)\n"
     ]
    }
   ],
   "source": [
    "features = [ 'year', 'mileage', 'mpg','engineSize']\n",
    "target = [\"price\"]\n",
    "\n",
    "x=df[features]\n",
    "y=df[target]\n",
    "\n",
    "print(\"Shape of x = \", x.shape)\n",
    "print(\"Shape of y = \", y.shape)\n"
   ]
  },
  {
   "cell_type": "markdown",
   "id": "a3365469",
   "metadata": {},
   "source": [
    "### Create train and test data set"
   ]
  },
  {
   "cell_type": "code",
   "execution_count": 9,
   "id": "29e973ba",
   "metadata": {},
   "outputs": [
    {
     "name": "stdout",
     "output_type": "stream",
     "text": [
      "(12125, 4) (3032, 4) (12125, 1) (3032, 1)\n"
     ]
    }
   ],
   "source": [
    "x_train, x_test,y_train, y_test = train_test_split(x,y,\n",
    "                                                    test_size=0.2, \n",
    "                                                     random_state=42)\n",
    "\n",
    "print(x_train.shape, x_test.shape, y_train.shape, y_test.shape)"
   ]
  },
  {
   "cell_type": "markdown",
   "id": "b2f117e9",
   "metadata": {},
   "source": [
    "### Linear Regression"
   ]
  },
  {
   "cell_type": "code",
   "execution_count": 10,
   "id": "8cb55e9a",
   "metadata": {},
   "outputs": [],
   "source": [
    "model = LinearRegression()\n",
    "model = model.fit(x_train,y_train)"
   ]
  },
  {
   "cell_type": "markdown",
   "id": "2f75ef98",
   "metadata": {},
   "source": [
    "y = m1*x1 + m2*x2 + m3*x3 + m4*x4 + c"
   ]
  },
  {
   "cell_type": "code",
   "execution_count": 11,
   "id": "1b399412",
   "metadata": {},
   "outputs": [
    {
     "name": "stdout",
     "output_type": "stream",
     "text": [
      "[-2992133.6731303]\n"
     ]
    }
   ],
   "source": [
    "c = model.intercept_\n",
    "print(c)"
   ]
  },
  {
   "cell_type": "code",
   "execution_count": 12,
   "id": "0bdab895",
   "metadata": {},
   "outputs": [
    {
     "name": "stdout",
     "output_type": "stream",
     "text": [
      "[[ 1.48739376e+03 -8.48572114e-02 -8.58241212e+01  9.37268406e+03]]\n"
     ]
    }
   ],
   "source": [
    "coefficients = model.coef_\n",
    "print(coefficients)"
   ]
  },
  {
   "cell_type": "code",
   "execution_count": 13,
   "id": "e6741543",
   "metadata": {},
   "outputs": [
    {
     "data": {
      "text/html": [
       "<div>\n",
       "<style scoped>\n",
       "    .dataframe tbody tr th:only-of-type {\n",
       "        vertical-align: middle;\n",
       "    }\n",
       "\n",
       "    .dataframe tbody tr th {\n",
       "        vertical-align: top;\n",
       "    }\n",
       "\n",
       "    .dataframe thead th {\n",
       "        text-align: right;\n",
       "    }\n",
       "</style>\n",
       "<table border=\"1\" class=\"dataframe\">\n",
       "  <thead>\n",
       "    <tr style=\"text-align: right;\">\n",
       "      <th></th>\n",
       "      <th>features</th>\n",
       "      <th>coefficients</th>\n",
       "    </tr>\n",
       "  </thead>\n",
       "  <tbody>\n",
       "    <tr>\n",
       "      <th>0</th>\n",
       "      <td>year</td>\n",
       "      <td>1487.393763</td>\n",
       "    </tr>\n",
       "    <tr>\n",
       "      <th>1</th>\n",
       "      <td>mileage</td>\n",
       "      <td>-0.084857</td>\n",
       "    </tr>\n",
       "    <tr>\n",
       "      <th>2</th>\n",
       "      <td>mpg</td>\n",
       "      <td>-85.824121</td>\n",
       "    </tr>\n",
       "    <tr>\n",
       "      <th>3</th>\n",
       "      <td>engineSize</td>\n",
       "      <td>9372.684065</td>\n",
       "    </tr>\n",
       "  </tbody>\n",
       "</table>\n",
       "</div>"
      ],
      "text/plain": [
       "     features  coefficients\n",
       "0        year   1487.393763\n",
       "1     mileage     -0.084857\n",
       "2         mpg    -85.824121\n",
       "3  engineSize   9372.684065"
      ]
     },
     "metadata": {},
     "output_type": "display_data"
    }
   ],
   "source": [
    "coef_df = pd.DataFrame({\"features\":x.columns,\n",
    "                      \"coefficients\": np.squeeze(coefficients)})\n",
    "\n",
    "display(coef_df)"
   ]
  },
  {
   "cell_type": "markdown",
   "id": "a9ba1632",
   "metadata": {},
   "source": [
    "### Prediction"
   ]
  },
  {
   "cell_type": "code",
   "execution_count": 14,
   "id": "9e99b7d9",
   "metadata": {},
   "outputs": [
    {
     "name": "stdout",
     "output_type": "stream",
     "text": [
      "[[13865.0143481 ]\n",
      " [24971.69877535]\n",
      " [19559.80753035]\n",
      " ...\n",
      " [ 9592.74274532]\n",
      " [ 4825.24563734]\n",
      " [ 5633.54327228]]\n"
     ]
    }
   ],
   "source": [
    "y_pred = model.predict(x_test)\n",
    "print(y_pred)"
   ]
  },
  {
   "cell_type": "code",
   "execution_count": 15,
   "id": "f1aa4f78",
   "metadata": {},
   "outputs": [
    {
     "name": "stdout",
     "output_type": "stream",
     "text": [
      "       price\n",
      "7342   14450\n",
      "10328  23950\n",
      "14992  10495\n",
      "8466    9990\n",
      "10347  21998\n",
      "...      ...\n",
      "8211   17250\n",
      "8401   10450\n",
      "9810   10290\n",
      "7872    7499\n",
      "9399    7290\n",
      "\n",
      "[3032 rows x 1 columns]\n"
     ]
    }
   ],
   "source": [
    "print(y_test)"
   ]
  },
  {
   "cell_type": "markdown",
   "id": "8cbfca5f",
   "metadata": {},
   "source": [
    "### Prediction Error"
   ]
  },
  {
   "cell_type": "code",
   "execution_count": 16,
   "id": "9133c5a7",
   "metadata": {},
   "outputs": [
    {
     "name": "stdout",
     "output_type": "stream",
     "text": [
      "15140519.167912768\n"
     ]
    }
   ],
   "source": [
    "MSE = mean_squared_error(y_test, y_pred)\n",
    "print(MSE)"
   ]
  },
  {
   "cell_type": "code",
   "execution_count": 17,
   "id": "1bd75674",
   "metadata": {},
   "outputs": [
    {
     "name": "stdout",
     "output_type": "stream",
     "text": [
      "3891.0820047787183\n"
     ]
    }
   ],
   "source": [
    "RMSE = mean_squared_error(y_test, y_pred, squared = False )\n",
    "print(RMSE)"
   ]
  },
  {
   "cell_type": "code",
   "execution_count": 18,
   "id": "e02ef0e7",
   "metadata": {},
   "outputs": [
    {
     "name": "stdout",
     "output_type": "stream",
     "text": [
      "r_squared =  0.7448589068322593\n"
     ]
    }
   ],
   "source": [
    "r2 = r2_score(y_test, y_pred)\n",
    "print(\"r_squared = \", r2)"
   ]
  },
  {
   "cell_type": "markdown",
   "id": "ca3f4afb",
   "metadata": {},
   "source": [
    "### KPI -> Key Performance Indicator (MSE, RMSE.....)"
   ]
  },
  {
   "cell_type": "markdown",
   "id": "eed1f6fd",
   "metadata": {},
   "source": [
    "References:\n",
    "\n",
    "[1] A Gentle Introduction to Machine Learning: https://www.youtube.com/watch?v=Gv9_4yMHFhI&list=PLblh5JKOoLUICTaGLRoHQDuF_7q2GfuJF&ab_channel=StatQuestwithJoshStarmer\n",
    "\n",
    "[2] Linear Regression, Clearly Explained!!!: https://www.youtube.com/watch?v=nk2CQITm_eo&list=PLblh5JKOoLUICTaGLRoHQDuF_7q2GfuJF&index=10&ab_channel=StatQuestwithJoshStarmer\n",
    "\n",
    "[3] Linear Regression scikit-learn: https://scikit-\n",
    "learn.org/stable/modules/generated/sklearn.linear_model.LinearRegression.html\n",
    "\n",
    "[4] Data Splitting: https://scikit-learn.org/stable/modules/generated/sklearn.model_selection.train_test_split.html\n",
    "\n",
    "[5] Mean Squared Error: https://scikit-learn.org/stable/modules/generated/sklearn.metrics.mean_squared_error.html\n",
    "\n",
    "[6] RMSE calculation: https://www.youtube.com/watch?v=zMFdb__sUpw&ab_channel=KhanAcademy\n",
    "\n",
    "[7] Regression coefficients: https://statisticsbyjim.com/glossary/regression-coefficient/\n",
    "\n",
    "[8] Machine Learning Quiz 01: Linear Regression https://kawsar34.medium.com/machine-learning-quiz-01-a2fac2712a55\n",
    "\n",
    "[9] Linear Regression Assumptions: https://www.statology.org/linear-regression-assumptions/\n",
    "\n",
    "[10] Constant Variance: https://stats.stackexchange.com/questions/52089/what-does-having-constant-variance-in-a-linear-regression-model-mean\n",
    "\n",
    "[11] Multiple Regression: https://www.youtube.com/watch?v=zITIFTsivN8&list=PLblh5JKOoLUICTaGLRoHQDuF_7q2GfuJF&index=11&ab_channel=StatQuestwithJoshStarmer\n",
    "\n",
    "[12] Linear Regression Simplified - Ordinary Least Square vs Gradient Descent: https://towardsdatascience.com/linear-regression-simplified-ordinary-least-square-vs-gradient-descent-48145de2cf76"
   ]
  }
 ],
 "metadata": {
  "kernelspec": {
   "display_name": "Python 3",
   "language": "python",
   "name": "python3"
  },
  "language_info": {
   "codemirror_mode": {
    "name": "ipython",
    "version": 3
   },
   "file_extension": ".py",
   "mimetype": "text/x-python",
   "name": "python",
   "nbconvert_exporter": "python",
   "pygments_lexer": "ipython3",
   "version": "3.8.8"
  }
 },
 "nbformat": 4,
 "nbformat_minor": 5
}
