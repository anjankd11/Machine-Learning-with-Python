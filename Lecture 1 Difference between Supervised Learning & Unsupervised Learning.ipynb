{
 "cells": [
  {
   "cell_type": "markdown",
   "id": "1725dfe3",
   "metadata": {},
   "source": [
    "### Classification [YES/NO][GOOD/BAD][Class 1 ,2, 3 ......]"
   ]
  },
  {
   "cell_type": "markdown",
   "id": "031f351a",
   "metadata": {},
   "source": [
    "Can you predict a social media comment is toxic or non-toxic?"
   ]
  },
  {
   "cell_type": "markdown",
   "id": "5f9ac674",
   "metadata": {},
   "source": [
    "Can you predict whether or not a customer will purchase a particular item?"
   ]
  },
  {
   "cell_type": "markdown",
   "id": "114943ce",
   "metadata": {},
   "source": [
    "Can you predict a positive or negative sentiment to a given restaurant review?"
   ]
  },
  {
   "cell_type": "markdown",
   "id": "e2a56c27",
   "metadata": {},
   "source": [
    "Can you predict whether an email is a spam or not?"
   ]
  },
  {
   "cell_type": "markdown",
   "id": "4dd1d643",
   "metadata": {},
   "source": [
    "Can you predict a tumor is benign or malignant?"
   ]
  },
  {
   "cell_type": "markdown",
   "id": "6cc0df43",
   "metadata": {},
   "source": [
    "Can you predict whether the value of a stock will go up or go down next week? "
   ]
  },
  {
   "cell_type": "markdown",
   "id": "bdb28853",
   "metadata": {},
   "source": [
    "Is this a picture of a cat or a dog?"
   ]
  },
  {
   "cell_type": "markdown",
   "id": "4eb37043",
   "metadata": {},
   "source": [
    "Is it going to rain or not?"
   ]
  },
  {
   "cell_type": "markdown",
   "id": "88783368",
   "metadata": {},
   "source": [
    "Is this borrower going to repay their loan? "
   ]
  },
  {
   "cell_type": "markdown",
   "id": "3f0c013b",
   "metadata": {},
   "source": [
    "What is the genre of this song/movie? "
   ]
  },
  {
   "cell_type": "markdown",
   "id": "40fbbfa4",
   "metadata": {},
   "source": [
    "### Regression "
   ]
  },
  {
   "cell_type": "markdown",
   "id": "b143abf0",
   "metadata": {},
   "source": [
    "Can you predict the price of a new house based on various features?"
   ]
  },
  {
   "cell_type": "markdown",
   "id": "a2a52c4d",
   "metadata": {},
   "source": [
    "Can you predict what will be the value of stock next week?"
   ]
  },
  {
   "cell_type": "markdown",
   "id": "0256097d",
   "metadata": {},
   "source": [
    "With the given time and weather data predict the number of bikes being rented at any given hour?"
   ]
  },
  {
   "cell_type": "markdown",
   "id": "b903c5db",
   "metadata": {},
   "source": [
    "### Clustering "
   ]
  },
  {
   "cell_type": "markdown",
   "id": "d0018044",
   "metadata": {},
   "source": [
    "Can you group the students of an online education company into different categories based on their learning styles?"
   ]
  },
  {
   "cell_type": "markdown",
   "id": "9b542bfd",
   "metadata": {},
   "source": [
    "Find groups of customers with similar behavior given a large database of customer data containing their properties and past buying records."
   ]
  },
  {
   "cell_type": "markdown",
   "id": "70e4527d",
   "metadata": {},
   "source": [
    "### How ML works?"
   ]
  },
  {
   "cell_type": "markdown",
   "id": "e26dd50a",
   "metadata": {},
   "source": [
    "Interdisciplinary mix of statistics and computer science"
   ]
  },
  {
   "cell_type": "markdown",
   "id": "d919677c",
   "metadata": {},
   "source": [
    "Ability to learn without being explicitly programmed"
   ]
  },
  {
   "cell_type": "markdown",
   "id": "09f930da",
   "metadata": {},
   "source": [
    "Learn patterns from existing data and apply it to new dat"
   ]
  },
  {
   "cell_type": "markdown",
   "id": "4cc4363f",
   "metadata": {},
   "source": [
    "Relies on high-quality data etc."
   ]
  },
  {
   "cell_type": "markdown",
   "id": "5350fe85",
   "metadata": {},
   "source": [
    "### Terminologies"
   ]
  },
  {
   "cell_type": "markdown",
   "id": "3cd0c9d9",
   "metadata": {},
   "source": [
    "* Training data, historic data\n",
    "* Model\n",
    "* Features\n",
    "* Target\n",
    "* Observations\n",
    "* Test data, unseen data\n",
    "* Accuracy metric"
   ]
  },
  {
   "cell_type": "markdown",
   "id": "813b1fc5",
   "metadata": {},
   "source": [
    "### 1. Supervised Learning"
   ]
  },
  {
   "cell_type": "markdown",
   "id": "2efbfc40",
   "metadata": {},
   "source": [
    "Training data is labeled"
   ]
  },
  {
   "cell_type": "markdown",
   "id": "ccad3033",
   "metadata": {},
   "source": [
    "Regression\n",
    "* Linear Regression\n",
    "* Support Vector Machine\n",
    "* Decision Tree\n",
    "* Random Forest\n",
    "* Gradient Boosting\n",
    "* Xtreme Gradient Boosting"
   ]
  },
  {
   "cell_type": "markdown",
   "id": "c74f39c5",
   "metadata": {},
   "source": [
    "Classification\n",
    "* Logistic Regression\n",
    "* Support Vector Machine\n",
    "* Decision Tree\n",
    "* Random Forest\n",
    "* Gradient Boosting\n",
    "* Xtreme Gradient Boosting"
   ]
  },
  {
   "cell_type": "markdown",
   "id": "087c5892",
   "metadata": {},
   "source": [
    "### 2. Unsupervised Learning"
   ]
  },
  {
   "cell_type": "markdown",
   "id": "3d68e15f",
   "metadata": {},
   "source": [
    "* Training data has only features, there is no target variable\n",
    "* Clustering (K-means, DBScan, Hierarchical clustering etc), Dimensionality Reduction (Principal Component Analysis), Recommendation (Non-Negative Matrix Factorization)"
   ]
  },
  {
   "cell_type": "markdown",
   "id": "99f604c0",
   "metadata": {},
   "source": [
    "### Deep Learning"
   ]
  },
  {
   "cell_type": "markdown",
   "id": "3377f23d",
   "metadata": {},
   "source": [
    "* Convolutional Neural Network (CNN)\n",
    "* Long Short-Term memory (LSTM)"
   ]
  },
  {
   "cell_type": "markdown",
   "id": "918327d8",
   "metadata": {},
   "source": []
  }
 ],
 "metadata": {
  "kernelspec": {
   "display_name": "Python 3",
   "language": "python",
   "name": "python3"
  },
  "language_info": {
   "codemirror_mode": {
    "name": "ipython",
    "version": 3
   },
   "file_extension": ".py",
   "mimetype": "text/x-python",
   "name": "python",
   "nbconvert_exporter": "python",
   "pygments_lexer": "ipython3",
   "version": "3.8.8"
  }
 },
 "nbformat": 4,
 "nbformat_minor": 5
}
